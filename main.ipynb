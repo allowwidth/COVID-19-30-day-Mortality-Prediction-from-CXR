{
  "nbformat": 4,
  "nbformat_minor": 0,
  "metadata": {
    "language_info": {
      "codemirror_mode": {
        "name": "ipython",
        "version": 3
      },
      "file_extension": ".py",
      "mimetype": "text/x-python",
      "name": "python",
      "nbconvert_exporter": "python",
      "pygments_lexer": "ipython3",
      "version": "3.8.3-final"
    },
    "orig_nbformat": 2,
    "kernelspec": {
      "name": "python3",
      "display_name": "Python 3",
      "language": "python"
    },
    "colab": {
      "name": "hw3-1.ipynb",
      "provenance": [],
      "collapsed_sections": []
    },
    "accelerator": "GPU"
  },
  "cells": [
    {
      "cell_type": "code",
      "metadata": {
        "id": "GO_TQc1xFCbi"
      },
      "source": [
        "import os,sys\n",
        "import numpy as np\n",
        "import pandas as pd\n",
        "import matplotlib.pyplot as plt\n",
        "import random\n",
        "from PIL import Image\n",
        "from sklearn.model_selection import train_test_split\n",
        "import shutil\n",
        "import random\n",
        "from tensorflow.python.keras.layers import Flatten, Dense, Dropout\n",
        "from tensorflow.python.keras.models import Model"
      ],
      "execution_count": null,
      "outputs": []
    },
    {
      "cell_type": "code",
      "metadata": {
        "id": "2K9cfn71FCby"
      },
      "source": [
        "from tensorflow.keras.applications.resnet50 import ResNet50\n",
        "from tensorflow.keras.preprocessing import image\n",
        "from tensorflow.keras.applications.resnet50 import preprocess_input, decode_predictions\n",
        "import scipy\n",
        "from scipy import ndimage\n",
        "import tensorflow as tf"
      ],
      "execution_count": null,
      "outputs": []
    },
    {
      "cell_type": "code",
      "metadata": {
        "id": "U3r_LgW3FCbz"
      },
      "source": [
        "df_label = pd.read_csv(\"cxr_label_train.csv\")"
      ],
      "execution_count": null,
      "outputs": []
    },
    {
      "cell_type": "code",
      "metadata": {
        "id": "igrN2wPRFCb1"
      },
      "source": [
        "# train_path = './IML_CXR/'\n",
        "train_path = '/content/drive/MyDrive/Colab Notebooks/hw3_data/IML_CXR/'\n",
        "# test_path = './IML_CXR_TEST/'\n",
        "test_path = '/content/drive/MyDrive/Colab Notebooks/hw3_data/IML_CXR_TEST/'\n",
        "train_dead_path = './TRAIN/dead/'\n",
        "train_alive_path = './TRAIN/alive/'\n",
        "valid_dead_path = './VALID/dead/'\n",
        "valid_alive_path = './VALID/alive/'\n",
        "IMG_SIZE = (224,224)"
      ],
      "execution_count": null,
      "outputs": []
    },
    {
      "cell_type": "code",
      "metadata": {
        "id": "heBYxXixF6lO"
      },
      "source": [
        "def cp_image():\r\n",
        "    img_train = os.listdir(train_path)\r\n",
        "    for img_name in img_train:\r\n",
        "        img_path = train_path + img_name\r\n",
        "        PatientID = img_name.split('.jpg')\r\n",
        "        condition = (df_label[\"PATIENT ID\"] == int(PatientID[0]))\r\n",
        "        label = df_label[condition].iloc[0,1] #take image label\r\n",
        "        num = random.randint(1,10)\r\n",
        "        if label == 0:\r\n",
        "            if num <= 2 :\r\n",
        "                shutil.copyfile(train_path + img_name, valid_alive_path + img_name)\r\n",
        "            else :\r\n",
        "                shutil.copyfile(train_path + img_name, train_alive_path + img_name)\r\n",
        "        else :\r\n",
        "            if num <= 2:\r\n",
        "                shutil.copyfile(train_path + img_name, valid_dead_path + img_name)\r\n",
        "            else :   \r\n",
        "                shutil.copyfile(train_path + img_name, train_dead_path + img_name)"
      ],
      "execution_count": null,
      "outputs": []
    },
    {
      "cell_type": "code",
      "metadata": {
        "id": "kPjXNlCeG_-H"
      },
      "source": [
        "if (os.path.isdir('./TRAIN')): \r\n",
        "    shutil.rmtree('./TRAIN')\r\n",
        "os.mkdir('./TRAIN')\r\n",
        "os.mkdir(train_dead_path)\r\n",
        "os.mkdir(train_alive_path)\r\n",
        "if (os.path.isdir('./VALID')): \r\n",
        "    shutil.rmtree('./VALID')\r\n",
        "os.mkdir('./VALID')\r\n",
        "os.mkdir(valid_dead_path)\r\n",
        "os.mkdir(valid_alive_path)\r\n",
        "cp_image()"
      ],
      "execution_count": null,
      "outputs": []
    },
    {
      "cell_type": "code",
      "metadata": {
        "id": "x-3YU4saaNfo",
        "colab": {
          "base_uri": "https://localhost:8080/"
        },
        "outputId": "86315e6d-a72d-4c49-dbe3-93ecf7f8de2e"
      },
      "source": [
        "test_datagen = image.ImageDataGenerator(\n",
        "    rescale = 1./255\n",
        ")\n",
        "validation_generator = test_datagen.flow_from_directory(\n",
        "    './VALID',\n",
        "    target_size=IMG_SIZE, \n",
        "    batch_size=8\n",
        "    # class_mode='binary'\n",
        ")\n",
        "\n",
        "train_datagen = image.ImageDataGenerator( \n",
        "    rescale = 1./255,\n",
        "    rotation_range=5,    \n",
        "    width_shift_range=0.2,\n",
        "    height_shift_range=0.2,\n",
        "    shear_range=0.2,\n",
        "    zoom_range=0.2,\n",
        "    horizontal_flip=True,\n",
        ")\n",
        "\n",
        "train_generator = train_datagen.flow_from_directory(\n",
        "    './TRAIN',\n",
        "    target_size=IMG_SIZE,\n",
        "    batch_size=8\n",
        ")"
      ],
      "execution_count": null,
      "outputs": [
        {
          "output_type": "stream",
          "text": [
            "Found 285 images belonging to 2 classes.\n",
            "Found 1108 images belonging to 2 classes.\n"
          ],
          "name": "stdout"
        }
      ]
    },
    {
      "cell_type": "code",
      "metadata": {
        "id": "6dEqqip4FCb2"
      },
      "source": [
        "\n",
        "model = ResNet50(\n",
        "    input_shape = (IMG_SIZE[0],IMG_SIZE[1],3),\n",
        "    include_top=False,\n",
        "    weights=\"imagenet\",\n",
        "    input_tensor=None,\n",
        ")\n",
        "FREEZE_LAYERS = 2\n",
        "NUM_CLASSES = 2\n",
        "x = model.output\n",
        "x = Flatten()(x)\n",
        "x = Dropout(0.2)(x)\n",
        "output_layer = Dense(NUM_CLASSES, activation='softmax', name='softmax')(x)\n",
        "\n",
        "net_final = Model(inputs=model.input, outputs=output_layer)\n",
        "for layer in net_final.layers[:FREEZE_LAYERS]:\n",
        "    layer.trainable = False\n",
        "for layer in net_final.layers[FREEZE_LAYERS:]:\n",
        "    layer.trainable = True\n",
        "\n",
        "\n"
      ],
      "execution_count": null,
      "outputs": []
    },
    {
      "cell_type": "code",
      "metadata": {
        "id": "AUsDEJocFCb3"
      },
      "source": [
        "sgd = tf.keras.optimizers.SGD(lr=1e-5, momentum=0.9, decay=0.005, nesterov=False)\n",
        "adam = tf.keras.optimizers.Adam(lr=1e-5)\n",
        "adadelta = tf.keras.optimizers.Adadelta()\n",
        "net_final.compile(\n",
        "    optimizer=adam,\n",
        "    loss='categorical_crossentropy',\n",
        "    metrics=['accuracy']\n",
        ")\n"
      ],
      "execution_count": null,
      "outputs": []
    },
    {
      "cell_type": "code",
      "metadata": {
        "id": "V7sY4h9SadkH",
        "colab": {
          "base_uri": "https://localhost:8080/"
        },
        "outputId": "03d8402e-933a-4782-8f67-0e5daec777ae"
      },
      "source": [
        "net_final.fit_generator(\r\n",
        "    train_generator,\r\n",
        "    epochs=20,\r\n",
        "    validation_data=validation_generator\r\n",
        ")"
      ],
      "execution_count": null,
      "outputs": [
        {
          "output_type": "stream",
          "text": [
            "/usr/local/lib/python3.6/dist-packages/tensorflow/python/keras/engine/training.py:1844: UserWarning: `Model.fit_generator` is deprecated and will be removed in a future version. Please use `Model.fit`, which supports generators.\n",
            "  warnings.warn('`Model.fit_generator` is deprecated and '\n"
          ],
          "name": "stderr"
        },
        {
          "output_type": "stream",
          "text": [
            "Epoch 1/20\n",
            "139/139 [==============================] - 27s 141ms/step - loss: 0.7053 - accuracy: 0.8098 - val_loss: 0.6306 - val_accuracy: 0.6982\n",
            "Epoch 2/20\n",
            "139/139 [==============================] - 18s 131ms/step - loss: 0.6254 - accuracy: 0.8021 - val_loss: 0.9389 - val_accuracy: 0.3228\n",
            "Epoch 3/20\n",
            "139/139 [==============================] - 18s 130ms/step - loss: 0.5251 - accuracy: 0.8369 - val_loss: 0.6717 - val_accuracy: 0.6316\n",
            "Epoch 4/20\n",
            "139/139 [==============================] - 18s 128ms/step - loss: 0.5481 - accuracy: 0.8471 - val_loss: 0.8767 - val_accuracy: 0.5298\n",
            "Epoch 5/20\n",
            "139/139 [==============================] - 18s 129ms/step - loss: 0.4392 - accuracy: 0.8523 - val_loss: 0.8279 - val_accuracy: 0.5895\n",
            "Epoch 6/20\n",
            "139/139 [==============================] - 18s 128ms/step - loss: 0.4706 - accuracy: 0.8533 - val_loss: 0.6199 - val_accuracy: 0.7193\n",
            "Epoch 7/20\n",
            "139/139 [==============================] - 18s 128ms/step - loss: 0.4554 - accuracy: 0.8535 - val_loss: 0.5947 - val_accuracy: 0.7754\n",
            "Epoch 8/20\n",
            "139/139 [==============================] - 18s 128ms/step - loss: 0.4510 - accuracy: 0.8616 - val_loss: 0.5021 - val_accuracy: 0.8351\n",
            "Epoch 9/20\n",
            "139/139 [==============================] - 18s 128ms/step - loss: 0.4566 - accuracy: 0.8463 - val_loss: 0.5099 - val_accuracy: 0.8772\n",
            "Epoch 10/20\n",
            "139/139 [==============================] - 18s 128ms/step - loss: 0.4357 - accuracy: 0.8680 - val_loss: 0.5416 - val_accuracy: 0.8877\n",
            "Epoch 11/20\n",
            "139/139 [==============================] - 18s 128ms/step - loss: 0.4381 - accuracy: 0.8772 - val_loss: 0.5417 - val_accuracy: 0.8877\n",
            "Epoch 12/20\n",
            "139/139 [==============================] - 18s 129ms/step - loss: 0.4431 - accuracy: 0.8594 - val_loss: 0.5836 - val_accuracy: 0.8807\n",
            "Epoch 13/20\n",
            "139/139 [==============================] - 18s 127ms/step - loss: 0.4506 - accuracy: 0.8597 - val_loss: 0.5993 - val_accuracy: 0.8842\n",
            "Epoch 14/20\n",
            "139/139 [==============================] - 18s 127ms/step - loss: 0.3426 - accuracy: 0.8958 - val_loss: 0.4984 - val_accuracy: 0.8842\n",
            "Epoch 15/20\n",
            "139/139 [==============================] - 18s 127ms/step - loss: 0.4565 - accuracy: 0.8520 - val_loss: 0.4335 - val_accuracy: 0.8702\n",
            "Epoch 16/20\n",
            "139/139 [==============================] - 18s 127ms/step - loss: 0.3469 - accuracy: 0.8685 - val_loss: 0.4682 - val_accuracy: 0.8702\n",
            "Epoch 17/20\n",
            "139/139 [==============================] - 18s 126ms/step - loss: 0.3229 - accuracy: 0.8743 - val_loss: 0.5460 - val_accuracy: 0.8842\n",
            "Epoch 18/20\n",
            "139/139 [==============================] - 18s 127ms/step - loss: 0.3856 - accuracy: 0.8820 - val_loss: 0.4748 - val_accuracy: 0.8912\n",
            "Epoch 19/20\n",
            "139/139 [==============================] - 18s 128ms/step - loss: 0.3706 - accuracy: 0.8773 - val_loss: 0.4436 - val_accuracy: 0.8772\n",
            "Epoch 20/20\n",
            "139/139 [==============================] - 18s 128ms/step - loss: 0.2824 - accuracy: 0.9040 - val_loss: 0.5127 - val_accuracy: 0.8807\n"
          ],
          "name": "stdout"
        },
        {
          "output_type": "execute_result",
          "data": {
            "text/plain": [
              "<tensorflow.python.keras.callbacks.History at 0x7f2de0e9d3c8>"
            ]
          },
          "metadata": {
            "tags": []
          },
          "execution_count": 12
        }
      ]
    },
    {
      "cell_type": "code",
      "metadata": {
        "id": "Cf314hSfu_XU"
      },
      "source": [
        "X_train = []\r\n",
        "Y_train = []"
      ],
      "execution_count": null,
      "outputs": []
    },
    {
      "cell_type": "code",
      "metadata": {
        "id": "qc_vsxzVFCb4",
        "colab": {
          "base_uri": "https://localhost:8080/",
          "height": 303
        },
        "outputId": "b223934d-e6f0-4221-e778-e170bbc308a2"
      },
      "source": [
        "img_path = train_path + \"638.jpg\"\n",
        "img = image.load_img(img_path, target_size=IMG_SIZE)\n",
        "\n",
        "plt.imshow(img)\n",
        "img = image.img_to_array(img) / 255.0\n",
        "img = np.expand_dims(img, axis=0)  \n",
        "\n",
        "print(net_final.predict(img))\n",
        "np.argmax(net_final.predict(img))"
      ],
      "execution_count": null,
      "outputs": [
        {
          "output_type": "stream",
          "text": [
            "[[0.5207236  0.47927642]]\n"
          ],
          "name": "stdout"
        },
        {
          "output_type": "execute_result",
          "data": {
            "text/plain": [
              "0"
            ]
          },
          "metadata": {
            "tags": []
          },
          "execution_count": 16
        },
        {
          "output_type": "display_data",
          "data": {
            "image/png": "[encoded data removed]",
            "text/plain": [
              "<Figure size 432x288 with 1 Axes>"
            ]
          },
          "metadata": {
            "tags": [],
            "needs_background": "light"
          }
        }
      ]
    },
    {
      "cell_type": "code",
      "metadata": {
        "id": "kt_XlWk6IEBp"
      },
      "source": [
        "from sklearn import metrics\n",
        "np.set_printoptions(threshold=np.inf)"
      ],
      "execution_count": null,
      "outputs": []
    },
    {
      "cell_type": "code",
      "metadata": {
        "id": "eB9Cvab9UW7E"
      },
      "source": [
        "prediction = []\n",
        "answer = []\n",
        "\n",
        "files = os.listdir(valid_dead_path)\n",
        "for f in files:\n",
        "    img = image.load_img(valid_dead_path+f, target_size=IMG_SIZE)\n",
        "    img = image.img_to_array(img)/ 255.0\n",
        "    img = np.expand_dims(img, axis=0)\n",
        "    pred = net_final.predict(img)\n",
        "    res = np.argmax(pred)\n",
        "    prediction.append(res)\n",
        "    answer.append(1)\n",
        "\n",
        "files = os.listdir(valid_alive_path)\n",
        "for f in files:\n",
        "    img = image.load_img(valid_alive_path+f, target_size=IMG_SIZE)\n",
        "    img = image.img_to_array(img)/ 255.0\n",
        "    img = np.expand_dims(img, axis=0)\n",
        "    pred = net_final.predict(img)[0]\n",
        "    res = np.argmax(pred)\n",
        "    prediction.append(res)\n",
        "    answer.append(0)\n",
        "\n",
        "prediction = np.array(prediction)\n",
        "answer = np.array(answer)"
      ],
      "execution_count": null,
      "outputs": []
    },
    {
      "cell_type": "code",
      "metadata": {
        "id": "xlz0ua6lR8aw",
        "colab": {
          "base_uri": "https://localhost:8080/"
        },
        "outputId": "e8759cb4-e6b7-4953-8e34-b96ce00a0c21"
      },
      "source": [
        "print(answer)\r\n",
        "print(prediction)"
      ],
      "execution_count": null,
      "outputs": [
        {
          "output_type": "stream",
          "text": [
            "[1 1 1 1 1 1 1 1 1 1 1 1 1 1 1 1 1 1 1 1 1 1 1 1 1 1 1 1 1 1 1 1 0 0 0 0 0\n",
            " 0 0 0 0 0 0 0 0 0 0 0 0 0 0 0 0 0 0 0 0 0 0 0 0 0 0 0 0 0 0 0 0 0 0 0 0 0\n",
            " 0 0 0 0 0 0 0 0 0 0 0 0 0 0 0 0 0 0 0 0 0 0 0 0 0 0 0 0 0 0 0 0 0 0 0 0 0\n",
            " 0 0 0 0 0 0 0 0 0 0 0 0 0 0 0 0 0 0 0 0 0 0 0 0 0 0 0 0 0 0 0 0 0 0 0 0 0\n",
            " 0 0 0 0 0 0 0 0 0 0 0 0 0 0 0 0 0 0 0 0 0 0 0 0 0 0 0 0 0 0 0 0 0 0 0 0 0\n",
            " 0 0 0 0 0 0 0 0 0 0 0 0 0 0 0 0 0 0 0 0 0 0 0 0 0 0 0 0 0 0 0 0 0 0 0 0 0\n",
            " 0 0 0 0 0 0 0 0 0 0 0 0 0 0 0 0 0 0 0 0 0 0 0 0 0 0 0 0 0 0 0 0 0 0 0 0 0\n",
            " 0 0 0 0 0 0 0 0 0 0 0 0 0 0 0 0 0 0 0 0 0 0 0 0 0 0]\n",
            "[0 1 0 0 0 0 0 0 0 0 0 0 0 0 0 0 1 0 1 0 0 0 0 0 0 0 0 0 1 0 0 0 0 0 0 0 0\n",
            " 0 0 0 0 0 0 0 0 1 0 0 0 0 1 0 0 0 0 0 0 0 0 0 0 0 0 0 0 0 0 0 0 0 0 0 0 0\n",
            " 0 0 0 0 0 0 0 0 0 0 0 0 0 0 0 0 0 0 0 0 0 0 0 0 0 0 0 0 0 0 0 0 0 0 0 0 0\n",
            " 0 0 0 0 0 0 0 0 0 0 0 0 0 0 0 0 0 0 0 0 0 0 0 0 0 0 0 0 0 0 0 0 0 0 0 0 0\n",
            " 0 0 0 0 0 0 0 0 0 0 0 0 0 0 0 0 0 1 0 0 0 0 0 0 0 0 0 0 0 0 0 0 1 0 0 0 0\n",
            " 0 0 0 0 0 0 0 0 0 0 0 0 0 0 0 0 0 0 0 0 0 0 0 1 0 0 0 0 1 0 0 0 0 0 0 0 0\n",
            " 0 0 0 0 0 0 0 0 0 0 0 0 0 0 0 0 0 0 0 0 0 0 0 0 0 0 0 0 0 0 0 0 0 0 0 0 0\n",
            " 0 0 0 0 0 0 0 0 0 0 0 0 0 0 0 0 0 0 0 0 0 0 0 0 0 0]\n"
          ],
          "name": "stdout"
        }
      ]
    },
    {
      "cell_type": "code",
      "metadata": {
        "id": "aZKvYQeTK1hc",
        "colab": {
          "base_uri": "https://localhost:8080/"
        },
        "outputId": "04e7381e-4b21-4941-fb41-374c8ddfbd60"
      },
      "source": [
        "print('Precision:', metrics.precision_score(answer, prediction))\r\n",
        "print('Recall:', metrics.recall_score(answer, prediction))\r\n",
        "print('F1:', metrics.f1_score(answer, prediction, average = 'macro'))"
      ],
      "execution_count": null,
      "outputs": [
        {
          "output_type": "stream",
          "text": [
            "Precision: 0.4\n",
            "Recall: 0.125\n",
            "F1: 0.5630411255411256\n"
          ],
          "name": "stdout"
        }
      ]
    },
    {
      "cell_type": "code",
      "metadata": {
        "id": "3lFNjjm8HBKD"
      },
      "source": [
        "net_final.save('my_model-adam_6.h5')"
      ],
      "execution_count": null,
      "outputs": []
    }
  ]
}