{
  "nbformat": 4,
  "nbformat_minor": 0,
  "metadata": {
    "language_info": {
      "codemirror_mode": {
        "name": "ipython",
        "version": 3
      },
      "file_extension": ".py",
      "mimetype": "text/x-python",
      "name": "python",
      "nbconvert_exporter": "python",
      "pygments_lexer": "ipython3",
      "version": "3.8.3-final"
    },
    "orig_nbformat": 2,
    "kernelspec": {
      "name": "python3",
      "display_name": "Python 3",
      "language": "python"
    },
    "colab": {
      "name": "hw3.ipynb",
      "provenance": [],
      "collapsed_sections": []
    },
    "accelerator": "GPU"
  },
  "cells": [
    {
      "cell_type": "code",
      "metadata": {
        "id": "GO_TQc1xFCbi"
      },
      "source": [
        "import os,sys\n",
        "import numpy as np\n",
        "import pandas as pd\n",
        "import matplotlib.pyplot as plt\n",
        "import random\n",
        "from PIL import Image\n",
        "from sklearn.model_selection import train_test_split"
      ],
      "execution_count": null,
      "outputs": []
    },
    {
      "cell_type": "code",
      "metadata": {
        "colab": {
          "base_uri": "https://localhost:8080/"
        },
        "id": "0IBWQJvrI6xU",
        "outputId": "f934793c-8da4-4117-f4d6-d9a1b9717903"
      },
      "source": [
        "# from google.colab import drive\n",
        "# drive.mount('/content/drive')"
      ],
      "execution_count": null,
      "outputs": []
    },
    {
      "cell_type": "code",
      "metadata": {
        "id": "2K9cfn71FCby"
      },
      "source": [
        "from tensorflow.keras.applications.resnet50 import ResNet50\n",
        "from tensorflow.keras.preprocessing import image\n",
        "from tensorflow.keras.applications.resnet50 import preprocess_input, decode_predictions\n",
        "import scipy\n",
        "from scipy import ndimage\n",
        "import tensorflow as tf"
      ],
      "execution_count": null,
      "outputs": []
    },
    {
      "cell_type": "code",
      "metadata": {
        "colab": {
          "base_uri": "https://localhost:8080/"
        },
        "id": "U3r_LgW3FCbz",
        "outputId": "446cfb6a-8875-441b-dd57-dee0b8185f38"
      },
      "source": [
        "df_label = pd.read_csv(\"cxr_label_train.csv\")\n",
        "Filter = (df_label[\"PATIENT ID\"] == int(638))\n",
        "df_label[Filter].iloc[0,1]"
      ],
      "execution_count": null,
      "outputs": []
    },
    {
      "cell_type": "code",
      "metadata": {
        "id": "igrN2wPRFCb1"
      },
      "source": [
        "train_path = './IML_CXR/'\n",
        "# train_path = '/content/drive/MyDrive/Colab Notebooks/IML_CXR/'\n",
        "test_path = './IML_CXR_TEST/'\n",
        "# test_path = '/content/drive/MyDrive/Colab Notebooks/IML_CXR_TEST/'\n",
        "count = 0\n",
        "img_train = os.listdir(train_path)\n",
        "img_test = os.listdir(test_path)\n",
        "X = np.empty((len(img_train), 224, 224, 3))\n",
        "Y = np.empty((len(img_train), 2))\n",
        "\n",
        "for img_name in img_train:\n",
        "    img_path = train_path + img_name\n",
        "    img = image.load_img(img_path, target_size=(224, 224))\n",
        "    img = image.img_to_array(img) / 255.0\n",
        "    PatientID = img_name.split('.jpg')\n",
        "    condition = (df_label[\"PATIENT ID\"] == int(PatientID[0]))\n",
        "    label = df_label[condition].iloc[0,1] #take image label\n",
        "    X[count] = img\n",
        "    if label == 0:\n",
        "        Y[count] = np.array((1,0))\n",
        "    else :\n",
        "        Y[count] = np.array((0,1))\n",
        "    count += 1\n"
      ],
      "execution_count": null,
      "outputs": []
    },
    {
      "cell_type": "code",
      "metadata": {
        "tags": [],
        "id": "K-ZLddeOFCb2"
      },
      "source": [
        "X_train,X_test,Y_train,Y_test = train_test_split(X,Y,random_state = 777,test_size = 0.2)"
      ],
      "execution_count": null,
      "outputs": []
    },
    {
      "cell_type": "code",
      "metadata": {
        "id": "6dEqqip4FCb2"
      },
      "source": [
        "model = ResNet50(\n",
        "    weights=None,\n",
        "    classes=2\n",
        ")"
      ],
      "execution_count": null,
      "outputs": []
    },
    {
      "cell_type": "code",
      "metadata": {
        "id": "AUsDEJocFCb3"
      },
      "source": [
        "model.compile(optimizer=tf.keras.optimizers.Adam(),\n",
        "              loss='categorical_crossentropy',\n",
        "              metrics=['accuracy'])"
      ],
      "execution_count": null,
      "outputs": []
    },
    {
      "cell_type": "code",
      "metadata": {
        "colab": {
          "base_uri": "https://localhost:8080/"
        },
        "id": "FMUx-IXUFCb3",
        "outputId": "2fa1db99-330d-49fe-e673-dd5ac3e73035"
      },
      "source": [
        "model.fit(X_train, Y_train, epochs=2, batch_size=8)"
      ],
      "execution_count": null,
      "outputs": []
    },
    {
      "cell_type": "code",
      "metadata": {
        "id": "qc_vsxzVFCb4",
        "colab": {
          "base_uri": "https://localhost:8080/",
          "height": 303
        },
        "outputId": "f84a0da6-7c78-425c-8dfb-1991669fec21"
      },
      "source": [
        "img_path = \"./IML_CXR/638.jpg\"\n",
        "img = image.load_img(img_path, target_size=(224, 224))\n",
        "\n",
        "plt.imshow(img)\n",
        "img = image.img_to_array(img) / 255.0\n",
        "img = np.expand_dims(img, axis=0)  \n",
        "\n",
        "print(model.predict(img))\n",
        "np.argmax(model.predict(img))"
      ],
      "execution_count": null,
      "outputs": []
    },
    {
      "cell_type": "code",
      "metadata": {
        "id": "kt_XlWk6IEBp"
      },
      "source": [
        "from sklearn import metrics\r\n",
        "predictions = model.predict(X_test)\r\n",
        "np.set_printoptions(threshold=np.inf)"
      ],
      "execution_count": null,
      "outputs": []
    },
    {
      "cell_type": "code",
      "metadata": {
        "colab": {
          "base_uri": "https://localhost:8080/"
        },
        "id": "MHrkR_ZmSG4l",
        "outputId": "11ef3e15-7eaf-4b91-b05e-80cbe2bbac63"
      },
      "source": [
        "print(predictions)\r\n",
        "X_ = []\r\n",
        "Y_ = []\r\n",
        "for x in predictions:\r\n",
        "    X_.append(np.argmax(x))\r\n",
        "for y in Y_test:\r\n",
        "    Y_.append(np.argmax(y))\r\n",
        "print(X)"
      ],
      "execution_count": null,
      "outputs": []
    },
    {
      "cell_type": "code",
      "metadata": {
        "id": "aZKvYQeTK1hc"
      },
      "source": [
        "print('Precision:', metrics.precision_score(Y_test, predictions))\n",
        "print('Recall:', metrics.recall_score(Y_test, predictions))"
      ],
      "execution_count": null,
      "outputs": []
    },
    {
      "cell_type": "code",
      "metadata": {
        "id": "sibt4GEmK6aW"
      },
      "source": [
        "model.evaluate(X_test, Y_test, batch_size=32)"
      ],
      "execution_count": null,
      "outputs": []
    }
  ]
}